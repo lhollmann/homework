{
 "cells": [
  {
   "cell_type": "code",
   "execution_count": null,
   "metadata": {},
   "outputs": [],
   "source": [
    "from splinter import Browser\n",
    "from bs4 import BeautifulSoup\n",
    "import pandas as pd"
   ]
  },
  {
   "cell_type": "code",
   "execution_count": null,
   "metadata": {},
   "outputs": [],
   "source": [
    "executable_path = {'executable_path': 'chromedriver.exe'}\n",
    "browser = Browser('chrome', **executable_path, headless=False)"
   ]
  },
  {
   "cell_type": "code",
   "execution_count": null,
   "metadata": {},
   "outputs": [],
   "source": [
    "url = 'https://mars.nasa.gov/news/'\n",
    "browser.visit(url)\n",
    "\n",
    "html = browser.html\n",
    "nasa_soup = BeautifulSoup(html, 'html.parser')\n",
    "slideElem = nasa_soup.select_one('ul.item_list li.slide')\n",
    "\n",
    "slideElem.find(\"div\", class_='content_title')\n",
    "\n",
    "articleTitle = slideElem.find(\"div\", class_='content_title').get_text()\n",
    "articleTitle\n",
    "\n",
    "articleParagraph = slideElem.find('div', class_=\"article_teaser_body\").get_text()\n",
    "articlearagraph"
   ]
  },
  {
   "cell_type": "code",
   "execution_count": null,
   "metadata": {},
   "outputs": [],
   "source": [
    "url = 'https://www.jpl.nasa.gov/spaceimages/?search=&category=Mars'\n",
    "browser.visit(url)\n",
    "\n",
    "fullImageButton = browser.find_by_id('full_image')\n",
    "fullImageButton.click()\n",
    "\n",
    "browser.is_element_present_by_text('more info')\n",
    "moreInfo = browser.find_link_by_partial_text('more info')\n",
    "moreInfo.click()\n",
    "\n",
    "html = browser.html\n",
    "imageSoup = BeautifulSoup(html, 'html.parser')\n",
    "\n",
    "relativeImageURL = imageSoup.select_one('figure.lede a img').get(\"src\")\n",
    "relativeImageURL\n",
    "\n",
    "imageUrl = f'https://www.jpl.nasa.gov{relativeImageURL}'\n",
    "imageUrl"
   ]
  },
  {
   "cell_type": "code",
   "execution_count": null,
   "metadata": {},
   "outputs": [],
   "source": [
    "url = 'https://twitter.com/marswxreport?lang=en'\n",
    "browser.visit(url)\n",
    "\n",
    "html = browser.html\n",
    "weatherSoup = BeautifulSoup(html, 'html.parser')\n",
    "\n",
    "marsTweet = weatherSoup.find('div', attrs={\"class\": \"tweet\", \"data-name\": \"Mars Weather\"})\n",
    "\n",
    "marsWeather = marsTtweet.find('p', 'tweet-text').get_text()\n",
    "marsWeather"
   ]
  },
  {
   "cell_type": "code",
   "execution_count": null,
   "metadata": {},
   "outputs": [],
   "source": [
    "url = 'https://astrogeology.usgs.gov/search/results?q=hemisphere+enhanced&k1=target&v1=Mars'\n",
    "browser.visit(url)\n",
    "\n",
    "hemisphere_image_urls = []\n",
    "\n",
    "links = browser.find_by_css(\"a.product-item h3\")\n",
    "\n",
    "for i in range(len(links)):\n",
    "    hemisphere = {}\n",
    "    \n",
    "    browser.find_by_css(\"a.product-item h3\")[i].click()\n",
    "    \n",
    "    sampleElem = browser.find_link_by_text('Sample').first\n",
    "    hemisphere['img_url'] = sampleElem['href']\n",
    "    \n",
    "    hemisphere['title'] = browser.find_by_css(\"h2.title\").text\n",
    "    \n",
    "    hemisphereLinks.append(hemisphere)\n",
    "    \n",
    "    browser.back()\n",
    "\n",
    "hemisphereLinks"
   ]
  },
  {
   "cell_type": "code",
   "execution_count": null,
   "metadata": {},
   "outputs": [],
   "source": [
    "dataDf = pd.read_html('http://space-facts.com/mars/')[0]\n",
    "dataDf.columns=['description', 'value']\n",
    "dataDf.set_index('description', inplace=True)\n",
    "dataDf.to_html()\n",
    "browser.quit()"
   ]
  }
 ],
 "metadata": {
  "kernelspec": {
   "display_name": "Python 3",
   "language": "python",
   "name": "python3"
  },
  "language_info": {
   "codemirror_mode": {
    "name": "ipython",
    "version": 3
   },
   "file_extension": ".py",
   "mimetype": "text/x-python",
   "name": "python",
   "nbconvert_exporter": "python",
   "pygments_lexer": "ipython3",
   "version": "3.7.1"
  }
 },
 "nbformat": 4,
 "nbformat_minor": 2
}
